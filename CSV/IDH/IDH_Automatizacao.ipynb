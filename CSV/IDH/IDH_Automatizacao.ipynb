{
 "cells": [
  {
   "cell_type": "code",
   "execution_count": 54,
   "id": "f6f77787-8ed3-407f-beed-3afe33a71398",
   "metadata": {},
   "outputs": [],
   "source": [
    "import os\n",
    "import time\n",
    "import io\n",
    "import pandas as pd\n",
    "import requests\n",
    "from selenium import webdriver\n",
    "from selenium.webdriver.chrome.service import Service\n",
    "from selenium.webdriver.common.by import By\n",
    "from selenium.webdriver.support.ui import Select\n",
    "from minio import Minio"
   ]
  },
  {
   "cell_type": "code",
   "execution_count": 63,
   "id": "0164d73a-8c79-4f18-8d46-0ca9050af829",
   "metadata": {},
   "outputs": [],
   "source": [
    "minio_client = Minio(\n",
    "    \"localhost:9000\",  # substitua por seu URL MinIO (e.g., \"localhost:9000\")\n",
    "    access_key=\"minioadmin\",\n",
    "    secret_key=\"minioadmin\",\n",
    "    secure=False  # ou True se usar SSL\n",
    ")\n",
    "bucket_name = \"idh\"\n",
    "\n",
    "# Caminho para a sua pasta \"IDH\" dentro de \"OneDrive\\Documentos\"\n",
    "pasta_download = r'C:\\Users\\pedro\\OneDrive\\Documentos\\IDH'\n",
    "\n",
    "# Configuração do Chrome para ignorar downloads inseguros e definir o diretório de download\n",
    "chrome_options = webdriver.ChromeOptions()\n",
    "prefs = {\n",
    "    'download.default_directory': pasta_download,  # Define o diretório de download para a pasta IDH\n",
    "    'download.prompt_for_download': False,\n",
    "    'directory_upgrade': True,\n",
    "    'safebrowsing.enabled': False,\n",
    "    'safebrowsing.disable_download_protection': True  # Ignora o bloqueio de downloads inseguros\n",
    "}\n",
    "chrome_options.add_experimental_option('prefs', prefs)\n",
    "\n",
    "# Adiciona argumentos para permitir conteúdo inseguro\n",
    "chrome_options.add_argument(\"--allow-running-insecure-content\")\n",
    "chrome_options.add_argument(\"--unsafely-treat-insecure-origin-as-secure=http://www.atlasbrasil.org.br\")\n",
    "\n",
    "# Caminho para o ChromeDriver\n",
    "service = Service(r'C:\\Users\\pedro\\Downloads\\chromedriver-win64\\chromedriver-win64\\chromedriver.exe')\n",
    "driver = webdriver.Chrome(service=service, options=chrome_options)\n",
    "\n",
    "# Acessar o site\n",
    "driver.get('http://www.atlasbrasil.org.br/ranking')\n",
    "\n",
    "# Selecionar Todos\n",
    "select_element = driver.find_element(By.XPATH, '/html/body/main/div[2]/div[1]/div/div[2]/div/div/div[4]/select')\n",
    "select = Select(select_element)\n",
    "select.select_by_visible_text(\"Todas\")"
   ]
  },
  {
   "cell_type": "markdown",
   "id": "729571b3-779d-4d99-a5d7-de07e263346d",
   "metadata": {},
   "source": [
    "## Estados"
   ]
  },
  {
   "cell_type": "code",
   "execution_count": 66,
   "id": "5305c945-3e52-45cd-8984-b0262ee73fbe",
   "metadata": {},
   "outputs": [
    {
     "name": "stdout",
     "output_type": "stream",
     "text": [
      "O arquivo IDH_Estados.csv foi enviado com sucesso para o bucket idh no MinIO!\n"
     ]
    }
   ],
   "source": [
    "select_element = driver.find_element(By.XPATH, '/html/body/main/div[2]/div[1]/div/div[2]/div/div/div[1]/select')\n",
    "select = Select(select_element)\n",
    "select.select_by_visible_text(\"Estados\")\n",
    "\n",
    "# Localize o botão de download e clique nele\n",
    "botao_download = driver.find_element(By.XPATH, '/html/body/main/div[2]/div[2]/div/div[1]/div[1]/div[2]/div[1]/div[3]/button')\n",
    "botao_download.click()\n",
    "\n",
    "# Aguardar o download ser concluído\n",
    "time.sleep(20)  # Ajuste o tempo conforme necessário\n",
    "\n",
    "# Verifique se o arquivo foi baixado\n",
    "arquivos_na_pasta = os.listdir(pasta_download)\n",
    "arquivo_xlsx = [arquivo for arquivo in arquivos_na_pasta if arquivo.endswith('.xlsx')]\n",
    "\n",
    "if arquivo_xlsx:\n",
    "    # Converter o arquivo .xlsx para .csv\n",
    "    caminho_arquivo = os.path.join(pasta_download, arquivo_xlsx[0])\n",
    "    df = pd.read_excel(caminho_arquivo)\n",
    "    arquivo_csv = 'IDH_Estados.csv'\n",
    "    df.to_csv(os.path.join(pasta_download, arquivo_csv), index=False)\n",
    "\n",
    "    # Enviar o arquivo CSV para o MinIO\n",
    "    try:\n",
    "        if not minio_client.bucket_exists(bucket_name):\n",
    "            minio_client.make_bucket(bucket_name)\n",
    "        \n",
    "        # Caminho completo do CSV\n",
    "        caminho_csv = os.path.join(pasta_download, arquivo_csv)\n",
    "        \n",
    "        # Upload para o MinIO\n",
    "        minio_client.fput_object(bucket_name, arquivo_csv, caminho_csv)\n",
    "        print(f'O arquivo {arquivo_csv} foi enviado com sucesso para o bucket {bucket_name} no MinIO!')\n",
    "    except Exception as e:\n",
    "        print(f\"Erro ao enviar para o MinIO: {e}\")\n",
    "    finally:\n",
    "        # Remover os arquivos locais após o upload\n",
    "        os.remove(caminho_arquivo)\n",
    "        os.remove(caminho_csv)\n",
    "else:\n",
    "    print(\"Erro: Arquivo .xlsx não encontrado.\")\n",
    "\n",
    "time.sleep(20)"
   ]
  },
  {
   "cell_type": "markdown",
   "id": "ae7be6eb-4c11-4455-afef-0076c718bd26",
   "metadata": {},
   "source": [
    "## Municípios"
   ]
  },
  {
   "cell_type": "code",
   "execution_count": 26,
   "id": "458b5e92-0dd2-409b-9c30-a91e218ae1f2",
   "metadata": {},
   "outputs": [
    {
     "name": "stdout",
     "output_type": "stream",
     "text": [
      "Arquivos estão sendo baixados para: C:\\Users\\pedro\\OneDrive\\Documentos\\IDH\n",
      "O arquivo IDH_Municipios.csv foi enviado com sucesso para o bucket idh no MinIO!\n"
     ]
    }
   ],
   "source": [
    "select_element = driver.find_element(By.XPATH, '/html/body/main/div[2]/div[1]/div/div[2]/div/div/div[1]/select')\n",
    "select = Select(select_element)\n",
    "select.select_by_visible_text(\"Municípios\")\n",
    "\n",
    "# Localize o botão de download e clique nele\n",
    "botao_download = driver.find_element(By.XPATH, '/html/body/main/div[2]/div[2]/div/div[1]/div[1]/div[2]/div[1]/div[3]/button')\n",
    "botao_download.click()\n",
    "\n",
    "# Verifica o diretório de download e aguarda o download ser concluído\n",
    "print(f\"Arquivos estão sendo baixados para: {pasta_download}\")\n",
    "\n",
    "# Aumentar o tempo de espera para garantir que o download seja concluído\n",
    "time.sleep(20)  # Ajuste conforme necessário\n",
    "\n",
    "# Verifique se o arquivo foi baixado\n",
    "arquivos_na_pasta = os.listdir(pasta_download)\n",
    "arquivo_xlsx = [arquivo for arquivo in arquivos_na_pasta if arquivo.endswith('.xlsx')]\n",
    "        \n",
    "if arquivo_xlsx:\n",
    "    # Converter .xlsx para .csv usando Pandas\n",
    "    caminho_arquivo = os.path.join(pasta_download, arquivo_xlsx[0])\n",
    "    df = pd.read_excel(caminho_arquivo)\n",
    "    arquivo_csv = 'IDH_Municipios.csv'\n",
    "    df.to_csv(os.path.join(pasta_download, arquivo_csv), index=False)\n",
    "\n",
    "    # Enviar o arquivo CSV para o MinIO\n",
    "    try:\n",
    "        # Cria o bucket caso não exista\n",
    "        if not minio_client.bucket_exists(bucket_name):\n",
    "            minio_client.make_bucket(bucket_name)\n",
    "        \n",
    "        # Caminho completo do CSV\n",
    "        caminho_csv = os.path.join(pasta_download, arquivo_csv)\n",
    "        \n",
    "        # Upload para o MinIO\n",
    "        minio_client.fput_object(bucket_name, arquivo_csv, caminho_csv)\n",
    "        print(f'O arquivo {arquivo_csv} foi enviado com sucesso para o bucket {bucket_name} no MinIO!')\n",
    "    except Exception as e:\n",
    "        print(f\"Erro ao enviar para o MinIO: {e}\")\n",
    "    finally:\n",
    "        # Remover os arquivos locais após o upload\n",
    "        os.remove(caminho_arquivo)\n",
    "        os.remove(caminho_csv)\n",
    "else:\n",
    "    print(\"Erro: Arquivo .xlsx não encontrado.\")\n",
    "\n",
    "time.sleep(20)"
   ]
  },
  {
   "cell_type": "markdown",
   "id": "98411ec9-b784-4e70-bd14-aa616b858cb6",
   "metadata": {},
   "source": [
    "## UDH"
   ]
  },
  {
   "cell_type": "code",
   "execution_count": 29,
   "id": "2eb8bc7b-9b72-4358-984a-9ac356d0f8ec",
   "metadata": {},
   "outputs": [
    {
     "name": "stdout",
     "output_type": "stream",
     "text": [
      "Arquivos estão sendo baixados para: C:\\Users\\pedro\\OneDrive\\Documentos\\IDH\n",
      "O arquivo IDH_UDH.csv foi enviado com sucesso para o bucket idh no MinIO!\n"
     ]
    }
   ],
   "source": [
    "select_element = driver.find_element(By.XPATH, '/html/body/main/div[2]/div[1]/div/div[2]/div/div/div[1]/select')\n",
    "select = Select(select_element)\n",
    "select.select_by_visible_text(\"UDH\")\n",
    "\n",
    "# Localize o botão de download e clique nele\n",
    "botao_download = driver.find_element(By.XPATH, '/html/body/main/div[2]/div[2]/div/div[1]/div[1]/div[2]/div[1]/div[3]/button')\n",
    "botao_download.click()\n",
    "\n",
    "# Verifica o diretório de download e aguarda o download ser concluído\n",
    "print(f\"Arquivos estão sendo baixados para: {pasta_download}\")\n",
    "\n",
    "# Aumentar o tempo de espera para garantir que o download seja concluído\n",
    "time.sleep(20)  # Ajuste conforme necessário\n",
    "\n",
    "# Verifique se o arquivo foi baixado\n",
    "arquivos_na_pasta = os.listdir(pasta_download)\n",
    "arquivo_xlsx = [arquivo for arquivo in arquivos_na_pasta if arquivo.endswith('.xlsx')]\n",
    "        \n",
    "if arquivo_xlsx:\n",
    "    # Converter .xlsx para .csv usando Pandas\n",
    "    caminho_arquivo = os.path.join(pasta_download, arquivo_xlsx[0])\n",
    "    df = pd.read_excel(caminho_arquivo)\n",
    "    arquivo_csv = 'IDH_UDH.csv'\n",
    "    df.to_csv(os.path.join(pasta_download, arquivo_csv), index=False)\n",
    "\n",
    "    # Enviar o arquivo CSV para o MinIO\n",
    "    try:\n",
    "        # Cria o bucket caso não exista\n",
    "        if not minio_client.bucket_exists(bucket_name):\n",
    "            minio_client.make_bucket(bucket_name)\n",
    "        \n",
    "        # Caminho completo do CSV\n",
    "        caminho_csv = os.path.join(pasta_download, arquivo_csv)\n",
    "        \n",
    "        # Upload para o MinIO\n",
    "        minio_client.fput_object(bucket_name, arquivo_csv, caminho_csv)\n",
    "        print(f'O arquivo {arquivo_csv} foi enviado com sucesso para o bucket {bucket_name} no MinIO!')\n",
    "    except Exception as e:\n",
    "        print(f\"Erro ao enviar para o MinIO: {e}\")\n",
    "    finally:\n",
    "        # Remover os arquivos locais após o upload\n",
    "        os.remove(caminho_arquivo)\n",
    "        os.remove(caminho_csv)\n",
    "else:\n",
    "    print(\"Erro: Arquivo .xlsx não encontrado.\")\n",
    "\n",
    "time.sleep(20)"
   ]
  },
  {
   "cell_type": "markdown",
   "id": "977e6ca1-0d20-435f-ad71-580de644e386",
   "metadata": {},
   "source": [
    "## RM"
   ]
  },
  {
   "cell_type": "code",
   "execution_count": 32,
   "id": "479ed6b0-2c6d-4d6b-8e6c-d65ed8c8f270",
   "metadata": {},
   "outputs": [
    {
     "name": "stdout",
     "output_type": "stream",
     "text": [
      "Arquivos estão sendo baixados para: C:\\Users\\pedro\\OneDrive\\Documentos\\IDH\n",
      "O arquivo IDH_RM.csv foi enviado com sucesso para o bucket idh no MinIO!\n"
     ]
    }
   ],
   "source": [
    "select_element = driver.find_element(By.XPATH, '/html/body/main/div[2]/div[1]/div/div[2]/div/div/div[1]/select')\n",
    "select = Select(select_element)\n",
    "select.select_by_visible_text(\"RM\")\n",
    "\n",
    "# Localize o botão de download e clique nele\n",
    "botao_download = driver.find_element(By.XPATH, '/html/body/main/div[2]/div[2]/div/div[1]/div[1]/div[2]/div[1]/div[3]/button')\n",
    "botao_download.click()\n",
    "\n",
    "# Verifica o diretório de download e aguarda o download ser concluído\n",
    "print(f\"Arquivos estão sendo baixados para: {pasta_download}\")\n",
    "\n",
    "# Aumentar o tempo de espera para garantir que o download seja concluído\n",
    "time.sleep(20)  # Ajuste conforme necessário\n",
    "\n",
    "# Verifique se o arquivo foi baixado\n",
    "arquivos_na_pasta = os.listdir(pasta_download)\n",
    "arquivo_xlsx = [arquivo for arquivo in arquivos_na_pasta if arquivo.endswith('.xlsx')]\n",
    "        \n",
    "if arquivo_xlsx:\n",
    "    # Converter .xlsx para .csv usando Pandas\n",
    "    caminho_arquivo = os.path.join(pasta_download, arquivo_xlsx[0])\n",
    "    df = pd.read_excel(caminho_arquivo)\n",
    "    arquivo_csv = 'IDH_RM.csv'\n",
    "    df.to_csv(os.path.join(pasta_download, arquivo_csv), index=False)\n",
    "\n",
    "    # Enviar o arquivo CSV para o MinIO\n",
    "    try:\n",
    "        # Cria o bucket caso não exista\n",
    "        if not minio_client.bucket_exists(bucket_name):\n",
    "            minio_client.make_bucket(bucket_name)\n",
    "        \n",
    "        # Caminho completo do CSV\n",
    "        caminho_csv = os.path.join(pasta_download, arquivo_csv)\n",
    "        \n",
    "        # Upload para o MinIO\n",
    "        minio_client.fput_object(bucket_name, arquivo_csv, caminho_csv)\n",
    "        print(f'O arquivo {arquivo_csv} foi enviado com sucesso para o bucket {bucket_name} no MinIO!')\n",
    "    except Exception as e:\n",
    "        print(f\"Erro ao enviar para o MinIO: {e}\")\n",
    "    finally:\n",
    "        # Remover os arquivos locais após o upload\n",
    "        os.remove(caminho_arquivo)\n",
    "        os.remove(caminho_csv)\n",
    "else:\n",
    "    print(\"Erro: Arquivo .xlsx não encontrado.\")\n",
    "\n",
    "time.sleep(20)"
   ]
  },
  {
   "cell_type": "code",
   "execution_count": 68,
   "id": "66981352-f85c-4e11-a7ec-e41811a401c3",
   "metadata": {},
   "outputs": [],
   "source": [
    "driver.quit()"
   ]
  }
 ],
 "metadata": {
  "kernelspec": {
   "display_name": "Python 3 (ipykernel)",
   "language": "python",
   "name": "python3"
  },
  "language_info": {
   "codemirror_mode": {
    "name": "ipython",
    "version": 3
   },
   "file_extension": ".py",
   "mimetype": "text/x-python",
   "name": "python",
   "nbconvert_exporter": "python",
   "pygments_lexer": "ipython3",
   "version": "3.12.4"
  }
 },
 "nbformat": 4,
 "nbformat_minor": 5
}
